{
 "cells": [
  {
   "cell_type": "code",
   "execution_count": 36,
   "metadata": {},
   "outputs": [],
   "source": [
    "import pandas as pd\n",
    "import numpy as np"
   ]
  },
  {
   "cell_type": "markdown",
   "metadata": {},
   "source": [
    "## Model data preparation"
   ]
  },
  {
   "cell_type": "code",
   "execution_count": 37,
   "metadata": {},
   "outputs": [],
   "source": [
    "population = 36648727 # from Keralastat.com - is this reliable?\n",
    "number_hospital_beds = 38004\n",
    "number_icu_beds = 3742\n",
    "\n",
    "average_R0 = 3\n",
    "\n",
    "tl = 5 * (24 * 3600)\n",
    "ti = 10 * (24 * 3600)\n",
    "th = 4 * (24 * 3600)\n",
    "tc = 14 * (24 * 3600)"
   ]
  },
  {
   "cell_type": "code",
   "execution_count": 38,
   "metadata": {},
   "outputs": [],
   "source": [
    "simulation_start_date = \"2020-03-01\"\n",
    "simulation_end_date = \"2020-05-31\""
   ]
  },
  {
   "cell_type": "code",
   "execution_count": 39,
   "metadata": {},
   "outputs": [],
   "source": [
    "# The agewise split is taken from http://statisticstimes.com/demographics/population-of-kerala.php\n",
    "\n",
    "zetaa = pd.DataFrame()\n",
    "ma = pd.DataFrame()\n",
    "fa = pd.DataFrame()\n",
    "ca = pd.DataFrame()\n",
    "sa0 = pd.DataFrame()\n",
    "\n",
    "CONVERT_PERCENTAGE = 1\n",
    "CONVERT_TO_ABS_POPULATION = 0\n",
    "sa0_file = \"./data/population_age_distribution.csv\"\n",
    "ma_file = \"./data/agebased_recovery.csv\"\n",
    "ca_file = \"./data/agebased_criticalcare.csv\"\n",
    "fa_file = \"./data/agebased_fatal.csv\"\n",
    "zetaa_file = \"./data/agebased_zetaa.csv\"\n",
    "\n",
    "age_map_dict = {0:\"0-9\",1:\"10-19\",\n",
    "    2:\"20-29\", 3:\"30-39\",\n",
    "    4:\"40-49\", 5:\"50-59\",\n",
    "    6:\"60-69\", 7:\"70-79\",\n",
    "    8:\"80-\"}\n",
    "age_code_end = 9\n",
    "\n",
    "agestring = pd.DataFrame.from_dict(age_map_dict, orient=\"index\")\n",
    "agestring.columns = [\"AgeString\"]\n",
    "\n",
    "zero_initial_value = np.zeros(age_code_end)\n",
    "\n",
    "infected_initial_value_dict = {0:0,1:0,\n",
    "    2:2, 3:3,\n",
    "    4:4, 5:4,\n",
    "    6:2, 7:0,\n",
    "    8:0}\n",
    "infected_initial_value = pd.DataFrame.from_dict(infected_initial_value_dict, orient=\"index\")\n",
    "infected_initial_value.columns = [\"Value\"]"
   ]
  },
  {
   "cell_type": "code",
   "execution_count": 40,
   "metadata": {},
   "outputs": [],
   "source": [
    "def prepare_agebased_data_fromfile(file):\n",
    "    filedata = pd.read_csv(file, index_col=0)\n",
    "    var = pd.DataFrame(columns=[\"AgeString\",\"Value\"])    \n",
    "    var[\"AgeString\"] = agestring[\"AgeString\"]\n",
    "    if CONVERT_PERCENTAGE:\n",
    "        var[\"Value\"] = filedata[\"Value\"]/100\n",
    "    else:\n",
    "        var[\"Value\"] = filedata[\"Value\"]\n",
    "        \n",
    "    if CONVERT_TO_ABS_POPULATION:\n",
    "        var[\"Value\"] = var[\"Value\"] * population\n",
    "    \n",
    "    return var\n",
    "\n",
    "\n",
    "def prepare_timeseries_data(initial_value):\n",
    "    var = np.zeros((1, len(initial_value)))\n",
    "    var[0,:] = initial_value\n",
    "    return var"
   ]
  },
  {
   "cell_type": "code",
   "execution_count": 41,
   "metadata": {},
   "outputs": [],
   "source": [
    "ma = prepare_agebased_data_fromfile(ma_file)\n",
    "ca = prepare_agebased_data_fromfile(ca_file)\n",
    "fa = prepare_agebased_data_fromfile(fa_file)\n",
    "zetaa = prepare_agebased_data_fromfile(zetaa_file)\n",
    "\n",
    "CONVERT_TO_ABS_POPULATION = 1\n",
    "sa0 = prepare_agebased_data_fromfile(sa0_file)"
   ]
  },
  {
   "cell_type": "code",
   "execution_count": 60,
   "metadata": {},
   "outputs": [],
   "source": [
    "Sa = prepare_timeseries_data(sa0[\"Value\"].values)\n",
    "Ia = prepare_timeseries_data(infected_initial_value[\"Value\"].values)\n",
    "Ea = prepare_timeseries_data(zero_initial_value)\n",
    "Ha = prepare_timeseries_data(zero_initial_value)\n",
    "Ca = prepare_timeseries_data(zero_initial_value)\n",
    "Ra = prepare_timeseries_data(zero_initial_value)\n",
    "Da = prepare_timeseries_data(zero_initial_value)\n",
    "betat = prepare_timeseries_data(zero_initial_value)"
   ]
  },
  {
   "cell_type": "markdown",
   "metadata": {},
   "source": [
    "## Model simulation"
   ]
  },
  {
   "cell_type": "code",
   "execution_count": 43,
   "metadata": {},
   "outputs": [],
   "source": [
    "import matplotlib.pyplot as plt\n",
    "%matplotlib inline"
   ]
  },
  {
   "cell_type": "code",
   "execution_count": 44,
   "metadata": {},
   "outputs": [],
   "source": [
    "dt = 3600 # this is in units of seconds"
   ]
  },
  {
   "cell_type": "code",
   "execution_count": 45,
   "metadata": {},
   "outputs": [],
   "source": [
    "total_seconds_of_simulation = (pd.Timestamp(simulation_end_date) - pd.Timestamp(simulation_start_date)).total_seconds()"
   ]
  },
  {
   "cell_type": "code",
   "execution_count": 46,
   "metadata": {},
   "outputs": [],
   "source": [
    "total_simtime_steps = int(np.ceil(total_seconds_of_simulation / dt))"
   ]
  },
  {
   "cell_type": "code",
   "execution_count": 47,
   "metadata": {},
   "outputs": [],
   "source": [
    "def limit(value):\n",
    "    return np.min([population, np.max([value, 0])])\n",
    "\n",
    "def apply_limit(array):\n",
    "    return np.array([limit(x) for x in array])\n"
   ]
  },
  {
   "cell_type": "code",
   "execution_count": 62,
   "metadata": {},
   "outputs": [],
   "source": [
    "for sim_time in range(total_simtime_steps):        \n",
    "    total_infected = np.sum(Ia[sim_time, :])\n",
    "    betat[sim_time, :] = average_R0 * (1 - zetaa[\"Value\"].values)/population\n",
    "    betat = np.vstack([betat, zero_initial_value])\n",
    "    Sa = np.vstack([Sa, apply_limit(Sa[sim_time, :] - dt * (betat[sim_time, :] * Sa[sim_time, :] * total_infected))])\n",
    "    Ea = np.vstack([Ea, apply_limit(Ea[sim_time, :] + dt * (betat[sim_time, :] * Sa[sim_time, :] * total_infected - \\\n",
    "                                   Ea[sim_time, :]/tl))])\n",
    "    Ia = np.vstack([Ia, apply_limit(Ia[sim_time, :] + dt * (Ea[sim_time, :]/tl - Ia[sim_time, :]/ti))])\n",
    "    Ha = np.vstack([Ha, apply_limit(Ha[sim_time, :] + dt * (ma[\"Value\"].values/ti * Ia[sim_time, :] + \\\n",
    "                                                           (1 - fa[\"Value\"].values)/tc * Ca[sim_time, :] - \\\n",
    "                                                           Ha[sim_time, :]/th))])\n",
    "    Ca = np.vstack([Ca, apply_limit(Ca[sim_time, :] + dt * (ca[\"Value\"].values * Ha[sim_time, :]/th - \\\n",
    "                                                           Ca[sim_time, :]/tc))])\n",
    "    Ra = np.vstack([Ra, apply_limit(Ra[sim_time, :] + dt * ((1 - ma[\"Value\"].values)/ti * Ia[sim_time, :] + \\\n",
    "                                                           (1 - ca[\"Value\"].values) * Ha[sim_time, :]/th))])\n",
    "    Da = np.vstack([Da, apply_limit(Da[sim_time, :] + dt * (fa[\"Value\"].values * Ca[sim_time, :]))])"
   ]
  },
  {
   "cell_type": "code",
   "execution_count": 63,
   "metadata": {},
   "outputs": [
    {
     "data": {
      "text/plain": [
       "[<matplotlib.lines.Line2D at 0x7f0cd606add0>]"
      ]
     },
     "execution_count": 63,
     "metadata": {},
     "output_type": "execute_result"
    },
    {
     "data": {
      "image/png": "[encoded data removed]",
      "text/plain": [
       "<Figure size 432x288 with 1 Axes>"
      ]
     },
     "metadata": {
      "needs_background": "light"
     },
     "output_type": "display_data"
    }
   ],
   "source": [
    "plt.plot(np.sum(Ea, axis = 1))"
   ]
  },
  {
   "cell_type": "code",
   "execution_count": null,
   "metadata": {},
   "outputs": [],
   "source": []
  }
 ],
 "metadata": {
  "kernelspec": {
   "display_name": "Python 3",
   "language": "python",
   "name": "python3"
  },
  "language_info": {
   "codemirror_mode": {
    "name": "ipython",
    "version": 3
   },
   "file_extension": ".py",
   "mimetype": "text/x-python",
   "name": "python",
   "nbconvert_exporter": "python",
   "pygments_lexer": "ipython3",
   "version": "3.7.4"
  }
 },
 "nbformat": 4,
 "nbformat_minor": 2
}
