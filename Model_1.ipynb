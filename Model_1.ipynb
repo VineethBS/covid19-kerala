{
 "cells": [
  {
   "cell_type": "code",
   "execution_count": 1,
   "metadata": {},
   "outputs": [],
   "source": [
    "import pandas as pd\n",
    "import numpy as np"
   ]
  },
  {
   "cell_type": "markdown",
   "metadata": {},
   "source": [
    "## Model data preparation"
   ]
  },
  {
   "cell_type": "code",
   "execution_count": 2,
   "metadata": {},
   "outputs": [],
   "source": [
    "population = 35330888\n",
    "number_hospital_beds = 38004\n",
    "number_icu_beds = 3742\n",
    "\n",
    "average_R0 = 3\n",
    "tl = 5\n",
    "ti = 3\n",
    "th = 4\n",
    "tc = 14"
   ]
  },
  {
   "cell_type": "code",
   "execution_count": 3,
   "metadata": {},
   "outputs": [],
   "source": [
    "simulation_start_date = \"2020-03-01\"\n",
    "simulation_end_date = \"2020-10-31\""
   ]
  },
  {
   "cell_type": "code",
   "execution_count": 4,
   "metadata": {},
   "outputs": [],
   "source": [
    "Sa = pd.DataFrame()\n",
    "betat = pd.DataFrame()\n",
    "Ia = pd.DataFrame()\n",
    "Ea = pd.DataFrame()\n",
    "Ha = pd.DataFrame()\n",
    "Ca = pd.DataFrame()\n",
    "Ra = pd.DataFrame()\n",
    "Da = pd.DataFrame()\n",
    "\n",
    "zetaa = pd.DataFrame()\n",
    "ma = pd.DataFrame()\n",
    "fa = pd.DataFrame()\n",
    "ca = pd.DataFrame()\n",
    "sa0 = pd.DataFrame()\n",
    "\n",
    "CONVERT_PERCENTAGE = 1\n",
    "CONVERT_TO_ABS_POPULATION = 0\n",
    "sa0_file = \"./data/population_age_distribution.csv\"\n",
    "ma_file = \"./data/agebased_recovery.csv\"\n",
    "ca_file = \"./data/agebased_criticalcare.csv\"\n",
    "fa_file = \"./data/agebased_fatal.csv\"\n",
    "zetaa_file = \"./data/agebased_zetaa.csv\"\n",
    "\n",
    "age_map_dict = {0:\"0-9\",1:\"10-19\",\n",
    "    2:\"20-29\", 3:\"30-39\",\n",
    "    4:\"40-49\", 5:\"50-59\",\n",
    "    6:\"60-69\", 7:\"70-79\",\n",
    "    8:\"80-\"}\n",
    "age_code_end = 9\n",
    "\n",
    "agestring = pd.DataFrame.from_dict(age_map_dict, orient=\"index\")\n",
    "agestring.columns = [\"AgeString\"]\n",
    "\n",
    "zero_initial_value = pd.DataFrame(index = range(age_code_end))\n",
    "zero_initial_value[\"Value\"] = 0\n",
    "\n",
    "infected_initial_value_dict = {0:0,1:0,\n",
    "    2:2, 3:3,\n",
    "    4:4, 5:4,\n",
    "    6:2, 7:0,\n",
    "    8:0}\n",
    "infected_initial_value = pd.DataFrame.from_dict(infected_initial_value_dict, orient=\"index\")\n",
    "infected_initial_value.columns = [\"Value\"]\n"
   ]
  },
  {
   "cell_type": "code",
   "execution_count": 5,
   "metadata": {},
   "outputs": [],
   "source": [
    "def prepare_agebased_data_fromfile(file):\n",
    "    filedata = pd.read_csv(file, index_col=0)\n",
    "    var = pd.DataFrame(columns=[\"AgeString\",\"Value\"])    \n",
    "    var[\"AgeString\"] = agestring[\"AgeString\"]\n",
    "    if CONVERT_PERCENTAGE:\n",
    "        var[\"Value\"] = filedata[\"Value\"]/100\n",
    "    else:\n",
    "        var[\"Value\"] = filedata[\"Value\"]\n",
    "        \n",
    "    if CONVERT_TO_ABS_POPULATION:\n",
    "        var[\"Value\"] = var[\"Value\"] * population\n",
    "    \n",
    "    return var\n",
    "\n",
    "\n",
    "def prepare_timeseries_data(initial_value):\n",
    "    var = pd.DataFrame(index = pd.date_range(simulation_start_date, simulation_end_date), \\\n",
    "        columns = range(age_code_end))\n",
    "    for a in range(age_code_end):\n",
    "        var.iloc[0][a] = initial_value.loc[a][\"Value\"]\n",
    "    return var\n",
    "\n",
    "ma = prepare_agebased_data_fromfile(ma_file)\n",
    "ca = prepare_agebased_data_fromfile(ca_file)\n",
    "fa = prepare_agebased_data_fromfile(fa_file)\n",
    "zetaa = prepare_agebased_data_fromfile(zetaa_file)\n",
    "\n",
    "CONVERT_TO_ABS_POPULATION = 1\n",
    "sa0 = prepare_agebased_data_fromfile(sa0_file)\n",
    "\n",
    "Sa = prepare_timeseries_data(sa0)\n",
    "Ia = prepare_timeseries_data(infected_initial_value)\n",
    "Ea = prepare_timeseries_data(zero_initial_value)\n",
    "Ha = prepare_timeseries_data(zero_initial_value)\n",
    "Ca = prepare_timeseries_data(zero_initial_value)\n",
    "Ra = prepare_timeseries_data(zero_initial_value)\n",
    "Da = prepare_timeseries_data(zero_initial_value)\n",
    "betat = prepare_timeseries_data(zero_initial_value)"
   ]
  },
  {
   "cell_type": "markdown",
   "metadata": {},
   "source": [
    "## Model simulation"
   ]
  },
  {
   "cell_type": "code",
   "execution_count": 6,
   "metadata": {},
   "outputs": [],
   "source": [
    "import matplotlib.pyplot as plt\n",
    "%matplotlib inline"
   ]
  },
  {
   "cell_type": "code",
   "execution_count": 7,
   "metadata": {},
   "outputs": [],
   "source": [
    "dt = 1"
   ]
  },
  {
   "cell_type": "code",
   "execution_count": 8,
   "metadata": {},
   "outputs": [],
   "source": [
    "def limit(value):\n",
    "    return np.min([population, np.max([value, 0])])"
   ]
  },
  {
   "cell_type": "code",
   "execution_count": 9,
   "metadata": {},
   "outputs": [],
   "source": [
    "for sim_time in pd.date_range(simulation_start_date, simulation_end_date):\n",
    "    # end the simulation if we are at the last row\n",
    "    if (sim_time + 1) > pd.Timestamp(simulation_end_date):\n",
    "        continue\n",
    "        \n",
    "    total_infected = np.sum(Ia.loc[sim_time])\n",
    "    for a in range(age_code_end):\n",
    "        betat.loc[sim_time][a] = average_R0 * (1 - (zetaa.loc[a][\"Value\"]))/population\n",
    "        Sa.loc[sim_time + 1][a] = limit(Sa.loc[sim_time][a] - betat.loc[sim_time][a] * Sa.loc[sim_time][a] * total_infected)\n",
    "        Ea.loc[sim_time + 1][a] = limit(Ea.loc[sim_time][a] + betat.loc[sim_time][a] * Sa.loc[sim_time][a] * total_infected - Ea.loc[sim_time][a]/tl)\n",
    "        Ia.loc[sim_time + 1][a] = limit(Ia.loc[sim_time][a] + Ea.loc[sim_time][a]/tl - Ia.loc[sim_time][a]/ti)\n",
    "        Ha.loc[sim_time + 1][a] = limit(Ha.loc[sim_time][a] + (1 - ma.loc[a][\"Value\"])/ti * Ia.loc[sim_time][a] + \\\n",
    "                                        (1 - fa.loc[a][\"Value\"])/tc * Ca.loc[sim_time][a] - \\\n",
    "                                        Ha.loc[sim_time][a]/th)\n",
    "        Ca.loc[sim_time + 1][a] = limit(Ca.loc[sim_time][a] + ca.loc[a][\"Value\"] * Ha.loc[sim_time][a]/th - \\\n",
    "                                       Ca.loc[sim_time][a]/tc)\n",
    "        Ra.loc[sim_time + 1][a] = limit(Ra.loc[sim_time][a] + ma.loc[a][\"Value\"] * Ia.loc[sim_time][a]/ti + \\\n",
    "                                       (1 - ca.loc[a][\"Value\"]) * Ha.loc[sim_time][a]/th)\n",
    "        Da.loc[sim_time + 1][a] = limit(Da.loc[sim_time][a] + fa.loc[a][\"Value\"] * Ca.loc[sim_time][a]/tc)"
   ]
  },
  {
   "cell_type": "code",
   "execution_count": 10,
   "metadata": {},
   "outputs": [
    {
     "data": {
      "text/plain": [
       "<matplotlib.axes._subplots.AxesSubplot at 0x7f7bb4e7d490>"
      ]
     },
     "execution_count": 10,
     "metadata": {},
     "output_type": "execute_result"
    },
    {
     "data": {
      "image/png": "[encoded data removed]",
      "text/plain": [
       "<Figure size 432x288 with 1 Axes>"
      ]
     },
     "metadata": {
      "needs_background": "light"
     },
     "output_type": "display_data"
    }
   ],
   "source": [
    "Sa.sum(axis = 1).plot()\n",
    "Ea.sum(axis = 1).plot()\n",
    "Ia.sum(axis = 1).plot()\n",
    "Ha.sum(axis = 1).plot()\n",
    "Ca.sum(axis = 1).plot()\n",
    "Ra.sum(axis = 1).plot()\n",
    "Da.sum(axis = 1).plot()"
   ]
  },
  {
   "cell_type": "code",
   "execution_count": 12,
   "metadata": {},
   "outputs": [
    {
     "data": {
      "text/plain": [
       "<matplotlib.axes._subplots.AxesSubplot at 0x7f7bafd9ccd0>"
      ]
     },
     "execution_count": 12,
     "metadata": {},
     "output_type": "execute_result"
    },
    {
     "data": {
      "image/png": "[encoded data removed]",
      "text/plain": [
       "<Figure size 432x288 with 1 Axes>"
      ]
     },
     "metadata": {
      "needs_background": "light"
     },
     "output_type": "display_data"
    }
   ],
   "source": [
    "Da.plot()"
   ]
  },
  {
   "cell_type": "code",
   "execution_count": null,
   "metadata": {},
   "outputs": [],
   "source": []
  }
 ],
 "metadata": {
  "kernelspec": {
   "display_name": "Python 3",
   "language": "python",
   "name": "python3"
  },
  "language_info": {
   "codemirror_mode": {
    "name": "ipython",
    "version": 3
   },
   "file_extension": ".py",
   "mimetype": "text/x-python",
   "name": "python",
   "nbconvert_exporter": "python",
   "pygments_lexer": "ipython3",
   "version": "3.7.4"
  }
 },
 "nbformat": 4,
 "nbformat_minor": 2
}
