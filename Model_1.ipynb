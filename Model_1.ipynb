{
 "cells": [
  {
   "cell_type": "code",
   "execution_count": 1,
   "metadata": {},
   "outputs": [],
   "source": [
    "import pandas as pd\n",
    "import numpy as np"
   ]
  },
  {
   "cell_type": "markdown",
   "metadata": {},
   "source": [
    "## Model data preparation"
   ]
  },
  {
   "cell_type": "code",
   "execution_count": 2,
   "metadata": {},
   "outputs": [],
   "source": [
    "population = 36648727 # from Keralastat.com - is this reliable?\n",
    "number_hospital_beds = 38004\n",
    "number_icu_beds = 3742\n",
    "\n",
    "average_R0 = 3\n",
    "\n",
    "tl = 5\n",
    "ti = 10\n",
    "th = 4\n",
    "tc = 14"
   ]
  },
  {
   "cell_type": "code",
   "execution_count": 3,
   "metadata": {},
   "outputs": [],
   "source": [
    "simulation_start_date = \"2020-03-01\"\n",
    "simulation_end_date = \"2020-12-31\""
   ]
  },
  {
   "cell_type": "code",
   "execution_count": 4,
   "metadata": {},
   "outputs": [],
   "source": [
    "# The agewise split is taken from http://statisticstimes.com/demographics/population-of-kerala.php\n",
    "\n",
    "Sa = pd.DataFrame()\n",
    "betat = pd.DataFrame()\n",
    "Ia = pd.DataFrame()\n",
    "Ea = pd.DataFrame()\n",
    "Ha = pd.DataFrame()\n",
    "Ca = pd.DataFrame()\n",
    "Ra = pd.DataFrame()\n",
    "Da = pd.DataFrame()\n",
    "\n",
    "zetaa = pd.DataFrame()\n",
    "ma = pd.DataFrame()\n",
    "fa = pd.DataFrame()\n",
    "ca = pd.DataFrame()\n",
    "sa0 = pd.DataFrame()\n",
    "\n",
    "CONVERT_PERCENTAGE = 1\n",
    "CONVERT_TO_ABS_POPULATION = 0\n",
    "sa0_file = \"./data/population_age_distribution.csv\"\n",
    "ma_file = \"./data/agebased_recovery.csv\"\n",
    "ca_file = \"./data/agebased_criticalcare.csv\"\n",
    "fa_file = \"./data/agebased_fatal.csv\"\n",
    "zetaa_file = \"./data/agebased_zetaa.csv\"\n",
    "\n",
    "age_map_dict = {0:\"0-9\",1:\"10-19\",\n",
    "    2:\"20-29\", 3:\"30-39\",\n",
    "    4:\"40-49\", 5:\"50-59\",\n",
    "    6:\"60-69\", 7:\"70-79\",\n",
    "    8:\"80-\"}\n",
    "age_code_end = 9\n",
    "\n",
    "agestring = pd.DataFrame.from_dict(age_map_dict, orient=\"index\")\n",
    "agestring.columns = [\"AgeString\"]\n",
    "\n",
    "zero_initial_value = pd.DataFrame(index = range(age_code_end))\n",
    "zero_initial_value[\"Value\"] = 0\n",
    "\n",
    "infected_initial_value_dict = {0:0,1:0,\n",
    "    2:2, 3:3,\n",
    "    4:4, 5:4,\n",
    "    6:2, 7:0,\n",
    "    8:0}\n",
    "infected_initial_value = pd.DataFrame.from_dict(infected_initial_value_dict, orient=\"index\")\n",
    "infected_initial_value.columns = [\"Value\"]\n"
   ]
  },
  {
   "cell_type": "code",
   "execution_count": 6,
   "metadata": {},
   "outputs": [],
   "source": [
    "def prepare_agebased_data_fromfile(file):\n",
    "    filedata = pd.read_csv(file, index_col=0)\n",
    "    var = pd.DataFrame(columns=[\"AgeString\",\"Value\"])    \n",
    "    var[\"AgeString\"] = agestring[\"AgeString\"]\n",
    "    if CONVERT_PERCENTAGE:\n",
    "        var[\"Value\"] = filedata[\"Value\"]/100\n",
    "    else:\n",
    "        var[\"Value\"] = filedata[\"Value\"]\n",
    "        \n",
    "    if CONVERT_TO_ABS_POPULATION:\n",
    "        var[\"Value\"] = var[\"Value\"] * population\n",
    "    \n",
    "    return var\n",
    "\n",
    "\n",
    "def prepare_timeseries_data(initial_value):\n",
    "    var = pd.DataFrame(index = pd.date_range(simulation_start_date, simulation_end_date), \\\n",
    "        columns = range(age_code_end))\n",
    "    for a in range(age_code_end):\n",
    "        var.iloc[0][a] = initial_value.loc[a][\"Value\"]\n",
    "    return var"
   ]
  },
  {
   "cell_type": "code",
   "execution_count": 7,
   "metadata": {},
   "outputs": [],
   "source": [
    "ma = prepare_agebased_data_fromfile(ma_file)\n",
    "ca = prepare_agebased_data_fromfile(ca_file)\n",
    "fa = prepare_agebased_data_fromfile(fa_file)\n",
    "zetaa = prepare_agebased_data_fromfile(zetaa_file)\n",
    "\n",
    "CONVERT_TO_ABS_POPULATION = 1\n",
    "sa0 = prepare_agebased_data_fromfile(sa0_file)\n",
    "\n",
    "Sa = prepare_timeseries_data(sa0)\n",
    "Ia = prepare_timeseries_data(infected_initial_value)\n",
    "Ea = prepare_timeseries_data(zero_initial_value)\n",
    "Ha = prepare_timeseries_data(zero_initial_value)\n",
    "Ca = prepare_timeseries_data(zero_initial_value)\n",
    "Ra = prepare_timeseries_data(zero_initial_value)\n",
    "Da = prepare_timeseries_data(zero_initial_value)\n",
    "betat = prepare_timeseries_data(zero_initial_value)"
   ]
  },
  {
   "cell_type": "code",
   "execution_count": 8,
   "metadata": {},
   "outputs": [
    {
     "data": {
      "text/html": [
       "<div>\n",
       "<style scoped>\n",
       "    .dataframe tbody tr th:only-of-type {\n",
       "        vertical-align: middle;\n",
       "    }\n",
       "\n",
       "    .dataframe tbody tr th {\n",
       "        vertical-align: top;\n",
       "    }\n",
       "\n",
       "    .dataframe thead th {\n",
       "        text-align: right;\n",
       "    }\n",
       "</style>\n",
       "<table border=\"1\" class=\"dataframe\">\n",
       "  <thead>\n",
       "    <tr style=\"text-align: right;\">\n",
       "      <th></th>\n",
       "      <th>AgeString</th>\n",
       "      <th>Value</th>\n",
       "    </tr>\n",
       "  </thead>\n",
       "  <tbody>\n",
       "    <tr>\n",
       "      <th>0</th>\n",
       "      <td>0-9</td>\n",
       "      <td>0.0</td>\n",
       "    </tr>\n",
       "    <tr>\n",
       "      <th>1</th>\n",
       "      <td>10-19</td>\n",
       "      <td>0.0</td>\n",
       "    </tr>\n",
       "    <tr>\n",
       "      <th>2</th>\n",
       "      <td>20-29</td>\n",
       "      <td>0.0</td>\n",
       "    </tr>\n",
       "    <tr>\n",
       "      <th>3</th>\n",
       "      <td>30-39</td>\n",
       "      <td>0.0</td>\n",
       "    </tr>\n",
       "    <tr>\n",
       "      <th>4</th>\n",
       "      <td>40-49</td>\n",
       "      <td>0.0</td>\n",
       "    </tr>\n",
       "    <tr>\n",
       "      <th>5</th>\n",
       "      <td>50-59</td>\n",
       "      <td>0.0</td>\n",
       "    </tr>\n",
       "    <tr>\n",
       "      <th>6</th>\n",
       "      <td>60-69</td>\n",
       "      <td>0.0</td>\n",
       "    </tr>\n",
       "    <tr>\n",
       "      <th>7</th>\n",
       "      <td>70-79</td>\n",
       "      <td>0.0</td>\n",
       "    </tr>\n",
       "    <tr>\n",
       "      <th>8</th>\n",
       "      <td>80-</td>\n",
       "      <td>0.0</td>\n",
       "    </tr>\n",
       "  </tbody>\n",
       "</table>\n",
       "</div>"
      ],
      "text/plain": [
       "  AgeString  Value\n",
       "0       0-9    0.0\n",
       "1     10-19    0.0\n",
       "2     20-29    0.0\n",
       "3     30-39    0.0\n",
       "4     40-49    0.0\n",
       "5     50-59    0.0\n",
       "6     60-69    0.0\n",
       "7     70-79    0.0\n",
       "8       80-    0.0"
      ]
     },
     "execution_count": 8,
     "metadata": {},
     "output_type": "execute_result"
    }
   ],
   "source": [
    "zetaa"
   ]
  },
  {
   "cell_type": "code",
   "execution_count": 9,
   "metadata": {},
   "outputs": [
    {
     "data": {
      "text/html": [
       "<div>\n",
       "<style scoped>\n",
       "    .dataframe tbody tr th:only-of-type {\n",
       "        vertical-align: middle;\n",
       "    }\n",
       "\n",
       "    .dataframe tbody tr th {\n",
       "        vertical-align: top;\n",
       "    }\n",
       "\n",
       "    .dataframe thead th {\n",
       "        text-align: right;\n",
       "    }\n",
       "</style>\n",
       "<table border=\"1\" class=\"dataframe\">\n",
       "  <thead>\n",
       "    <tr style=\"text-align: right;\">\n",
       "      <th></th>\n",
       "      <th>AgeString</th>\n",
       "      <th>Value</th>\n",
       "    </tr>\n",
       "  </thead>\n",
       "  <tbody>\n",
       "    <tr>\n",
       "      <th>0</th>\n",
       "      <td>0-9</td>\n",
       "      <td>0.01</td>\n",
       "    </tr>\n",
       "    <tr>\n",
       "      <th>1</th>\n",
       "      <td>10-19</td>\n",
       "      <td>0.03</td>\n",
       "    </tr>\n",
       "    <tr>\n",
       "      <th>2</th>\n",
       "      <td>20-29</td>\n",
       "      <td>0.03</td>\n",
       "    </tr>\n",
       "    <tr>\n",
       "      <th>3</th>\n",
       "      <td>30-39</td>\n",
       "      <td>0.03</td>\n",
       "    </tr>\n",
       "    <tr>\n",
       "      <th>4</th>\n",
       "      <td>40-49</td>\n",
       "      <td>0.06</td>\n",
       "    </tr>\n",
       "    <tr>\n",
       "      <th>5</th>\n",
       "      <td>50-59</td>\n",
       "      <td>0.10</td>\n",
       "    </tr>\n",
       "    <tr>\n",
       "      <th>6</th>\n",
       "      <td>60-69</td>\n",
       "      <td>0.25</td>\n",
       "    </tr>\n",
       "    <tr>\n",
       "      <th>7</th>\n",
       "      <td>70-79</td>\n",
       "      <td>0.35</td>\n",
       "    </tr>\n",
       "    <tr>\n",
       "      <th>8</th>\n",
       "      <td>80-</td>\n",
       "      <td>0.50</td>\n",
       "    </tr>\n",
       "  </tbody>\n",
       "</table>\n",
       "</div>"
      ],
      "text/plain": [
       "  AgeString  Value\n",
       "0       0-9   0.01\n",
       "1     10-19   0.03\n",
       "2     20-29   0.03\n",
       "3     30-39   0.03\n",
       "4     40-49   0.06\n",
       "5     50-59   0.10\n",
       "6     60-69   0.25\n",
       "7     70-79   0.35\n",
       "8       80-   0.50"
      ]
     },
     "execution_count": 9,
     "metadata": {},
     "output_type": "execute_result"
    }
   ],
   "source": [
    "ma"
   ]
  },
  {
   "cell_type": "code",
   "execution_count": 10,
   "metadata": {},
   "outputs": [
    {
     "data": {
      "text/html": [
       "<div>\n",
       "<style scoped>\n",
       "    .dataframe tbody tr th:only-of-type {\n",
       "        vertical-align: middle;\n",
       "    }\n",
       "\n",
       "    .dataframe tbody tr th {\n",
       "        vertical-align: top;\n",
       "    }\n",
       "\n",
       "    .dataframe thead th {\n",
       "        text-align: right;\n",
       "    }\n",
       "</style>\n",
       "<table border=\"1\" class=\"dataframe\">\n",
       "  <thead>\n",
       "    <tr style=\"text-align: right;\">\n",
       "      <th></th>\n",
       "      <th>AgeString</th>\n",
       "      <th>Value</th>\n",
       "    </tr>\n",
       "  </thead>\n",
       "  <tbody>\n",
       "    <tr>\n",
       "      <th>0</th>\n",
       "      <td>0-9</td>\n",
       "      <td>0.05</td>\n",
       "    </tr>\n",
       "    <tr>\n",
       "      <th>1</th>\n",
       "      <td>10-19</td>\n",
       "      <td>0.10</td>\n",
       "    </tr>\n",
       "    <tr>\n",
       "      <th>2</th>\n",
       "      <td>20-29</td>\n",
       "      <td>0.10</td>\n",
       "    </tr>\n",
       "    <tr>\n",
       "      <th>3</th>\n",
       "      <td>30-39</td>\n",
       "      <td>0.15</td>\n",
       "    </tr>\n",
       "    <tr>\n",
       "      <th>4</th>\n",
       "      <td>40-49</td>\n",
       "      <td>0.20</td>\n",
       "    </tr>\n",
       "    <tr>\n",
       "      <th>5</th>\n",
       "      <td>50-59</td>\n",
       "      <td>0.25</td>\n",
       "    </tr>\n",
       "    <tr>\n",
       "      <th>6</th>\n",
       "      <td>60-69</td>\n",
       "      <td>0.35</td>\n",
       "    </tr>\n",
       "    <tr>\n",
       "      <th>7</th>\n",
       "      <td>70-79</td>\n",
       "      <td>0.45</td>\n",
       "    </tr>\n",
       "    <tr>\n",
       "      <th>8</th>\n",
       "      <td>80-</td>\n",
       "      <td>0.55</td>\n",
       "    </tr>\n",
       "  </tbody>\n",
       "</table>\n",
       "</div>"
      ],
      "text/plain": [
       "  AgeString  Value\n",
       "0       0-9   0.05\n",
       "1     10-19   0.10\n",
       "2     20-29   0.10\n",
       "3     30-39   0.15\n",
       "4     40-49   0.20\n",
       "5     50-59   0.25\n",
       "6     60-69   0.35\n",
       "7     70-79   0.45\n",
       "8       80-   0.55"
      ]
     },
     "execution_count": 10,
     "metadata": {},
     "output_type": "execute_result"
    }
   ],
   "source": [
    "ca"
   ]
  },
  {
   "cell_type": "code",
   "execution_count": 11,
   "metadata": {},
   "outputs": [
    {
     "data": {
      "text/html": [
       "<div>\n",
       "<style scoped>\n",
       "    .dataframe tbody tr th:only-of-type {\n",
       "        vertical-align: middle;\n",
       "    }\n",
       "\n",
       "    .dataframe tbody tr th {\n",
       "        vertical-align: top;\n",
       "    }\n",
       "\n",
       "    .dataframe thead th {\n",
       "        text-align: right;\n",
       "    }\n",
       "</style>\n",
       "<table border=\"1\" class=\"dataframe\">\n",
       "  <thead>\n",
       "    <tr style=\"text-align: right;\">\n",
       "      <th></th>\n",
       "      <th>AgeString</th>\n",
       "      <th>Value</th>\n",
       "    </tr>\n",
       "  </thead>\n",
       "  <tbody>\n",
       "    <tr>\n",
       "      <th>0</th>\n",
       "      <td>0-9</td>\n",
       "      <td>0.3</td>\n",
       "    </tr>\n",
       "    <tr>\n",
       "      <th>1</th>\n",
       "      <td>10-19</td>\n",
       "      <td>0.3</td>\n",
       "    </tr>\n",
       "    <tr>\n",
       "      <th>2</th>\n",
       "      <td>20-29</td>\n",
       "      <td>0.3</td>\n",
       "    </tr>\n",
       "    <tr>\n",
       "      <th>3</th>\n",
       "      <td>30-39</td>\n",
       "      <td>0.3</td>\n",
       "    </tr>\n",
       "    <tr>\n",
       "      <th>4</th>\n",
       "      <td>40-49</td>\n",
       "      <td>0.3</td>\n",
       "    </tr>\n",
       "    <tr>\n",
       "      <th>5</th>\n",
       "      <td>50-59</td>\n",
       "      <td>0.4</td>\n",
       "    </tr>\n",
       "    <tr>\n",
       "      <th>6</th>\n",
       "      <td>60-69</td>\n",
       "      <td>0.4</td>\n",
       "    </tr>\n",
       "    <tr>\n",
       "      <th>7</th>\n",
       "      <td>70-79</td>\n",
       "      <td>0.5</td>\n",
       "    </tr>\n",
       "    <tr>\n",
       "      <th>8</th>\n",
       "      <td>80-</td>\n",
       "      <td>0.5</td>\n",
       "    </tr>\n",
       "  </tbody>\n",
       "</table>\n",
       "</div>"
      ],
      "text/plain": [
       "  AgeString  Value\n",
       "0       0-9    0.3\n",
       "1     10-19    0.3\n",
       "2     20-29    0.3\n",
       "3     30-39    0.3\n",
       "4     40-49    0.3\n",
       "5     50-59    0.4\n",
       "6     60-69    0.4\n",
       "7     70-79    0.5\n",
       "8       80-    0.5"
      ]
     },
     "execution_count": 11,
     "metadata": {},
     "output_type": "execute_result"
    }
   ],
   "source": [
    "fa"
   ]
  },
  {
   "cell_type": "markdown",
   "metadata": {},
   "source": [
    "## Model simulation"
   ]
  },
  {
   "cell_type": "code",
   "execution_count": 20,
   "metadata": {},
   "outputs": [],
   "source": [
    "import matplotlib.pyplot as plt\n",
    "%matplotlib inline"
   ]
  },
  {
   "cell_type": "code",
   "execution_count": 21,
   "metadata": {},
   "outputs": [],
   "source": [
    "dt = 1"
   ]
  },
  {
   "cell_type": "code",
   "execution_count": 22,
   "metadata": {},
   "outputs": [],
   "source": [
    "def limit(value):\n",
    "    return np.min([population, np.max([value, 0])])"
   ]
  },
  {
   "cell_type": "code",
   "execution_count": 23,
   "metadata": {},
   "outputs": [],
   "source": [
    "for sim_time in pd.date_range(simulation_start_date, simulation_end_date):\n",
    "    # end the simulation if we are at the last row\n",
    "    if (sim_time + 1) > pd.Timestamp(simulation_end_date):\n",
    "        continue\n",
    "        \n",
    "    total_infected = np.sum(Ia.loc[sim_time])\n",
    "    for a in range(age_code_end):\n",
    "        betat.loc[sim_time][a] = average_R0 * (1 - (zetaa.loc[a][\"Value\"]))/population\n",
    "        Sa.loc[sim_time + 1][a] = limit(Sa.loc[sim_time][a] - \\\n",
    "                                        betat.loc[sim_time][a] * Sa.loc[sim_time][a] * total_infected)\n",
    "        Ea.loc[sim_time + 1][a] = limit(Ea.loc[sim_time][a] + \\\n",
    "                                        betat.loc[sim_time][a] * Sa.loc[sim_time][a] * total_infected - \\\n",
    "                                        Ea.loc[sim_time][a]/tl)\n",
    "        Ia.loc[sim_time + 1][a] = limit(Ia.loc[sim_time][a] + Ea.loc[sim_time][a]/tl - Ia.loc[sim_time][a]/ti)\n",
    "        Ha.loc[sim_time + 1][a] = limit(Ha.loc[sim_time][a] + (ma.loc[a][\"Value\"])/ti * Ia.loc[sim_time][a] + \\\n",
    "                                        (1 - fa.loc[a][\"Value\"])/tc * Ca.loc[sim_time][a] - \\\n",
    "                                        Ha.loc[sim_time][a]/th)\n",
    "        Ca.loc[sim_time + 1][a] = limit(Ca.loc[sim_time][a] + ca.loc[a][\"Value\"] * Ha.loc[sim_time][a]/th - \\\n",
    "                                       Ca.loc[sim_time][a]/tc)\n",
    "        Ra.loc[sim_time + 1][a] = limit(Ra.loc[sim_time][a] + (1 - ma.loc[a][\"Value\"]) * Ia.loc[sim_time][a]/ti + \\\n",
    "                                       (1 - ca.loc[a][\"Value\"]) * Ha.loc[sim_time][a]/th)\n",
    "        Da.loc[sim_time + 1][a] = limit(Da.loc[sim_time][a] + fa.loc[a][\"Value\"] * Ca.loc[sim_time][a]/tc)"
   ]
  },
  {
   "cell_type": "code",
   "execution_count": 24,
   "metadata": {},
   "outputs": [
    {
     "data": {
      "text/plain": [
       "<matplotlib.axes._subplots.AxesSubplot at 0x7fd1e0ce8650>"
      ]
     },
     "execution_count": 24,
     "metadata": {},
     "output_type": "execute_result"
    },
    {
     "data": {
      "image/png": "[encoded data removed]",
      "text/plain": [
       "<Figure size 432x288 with 1 Axes>"
      ]
     },
     "metadata": {
      "needs_background": "light"
     },
     "output_type": "display_data"
    }
   ],
   "source": [
    "Da.sum(axis = 1).plot()"
   ]
  },
  {
   "cell_type": "code",
   "execution_count": 25,
   "metadata": {},
   "outputs": [
    {
     "data": {
      "text/plain": [
       "2020-12-27    467642.997895\n",
       "2020-12-28    467643.043754\n",
       "2020-12-29    467643.087349\n",
       "2020-12-30    467643.128794\n",
       "2020-12-31    467643.168194\n",
       "Freq: D, dtype: float64"
      ]
     },
     "execution_count": 25,
     "metadata": {},
     "output_type": "execute_result"
    }
   ],
   "source": [
    "Da.sum(axis = 1).tail()"
   ]
  },
  {
   "cell_type": "code",
   "execution_count": 26,
   "metadata": {},
   "outputs": [
    {
     "data": {
      "text/plain": [
       "0.012760143074000906"
      ]
     },
     "execution_count": 26,
     "metadata": {},
     "output_type": "execute_result"
    }
   ],
   "source": [
    "467643/population"
   ]
  },
  {
   "cell_type": "code",
   "execution_count": null,
   "metadata": {},
   "outputs": [],
   "source": []
  }
 ],
 "metadata": {
  "kernelspec": {
   "display_name": "Python 3",
   "language": "python",
   "name": "python3"
  },
  "language_info": {
   "codemirror_mode": {
    "name": "ipython",
    "version": 3
   },
   "file_extension": ".py",
   "mimetype": "text/x-python",
   "name": "python",
   "nbconvert_exporter": "python",
   "pygments_lexer": "ipython3",
   "version": "3.7.4"
  }
 },
 "nbformat": 4,
 "nbformat_minor": 2
}
